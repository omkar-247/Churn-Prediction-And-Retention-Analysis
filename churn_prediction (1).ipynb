{
 "cells": [
  {
   "cell_type": "code",
   "execution_count": 4,
   "id": "f960b7ac-8c88-4516-a082-8b1ec5a99269",
   "metadata": {},
   "outputs": [],
   "source": [
    "import pandas as pd\n",
    "from sklearn.model_selection import train_test_split\n",
    "from sklearn.ensemble import RandomForestClassifier\n",
    "from sklearn.preprocessing import LabelEncoder\n",
    "from sklearn.metrics import classification_report, confusion_matrix\n",
    "import seaborn as sns\n",
    "import matplotlib.pyplot as plt"
   ]
  },
  {
   "cell_type": "code",
   "execution_count": 5,
   "id": "821594c6-8598-4f3f-bce7-ca29fdb802a0",
   "metadata": {},
   "outputs": [],
   "source": [
    "# Load Dataset\n",
    "xls = pd.ExcelFile(r\"C:\\Users\\kumma\\OneDrive\\文档\\prediction data.xlsx\")\n",
    "data = pd.read_excel(xls, sheet_name='vw_ChurnData')"
   ]
  },
  {
   "cell_type": "markdown",
   "id": "4e93e8fd-8037-4491-aa77-cd7ee8045bcf",
   "metadata": {},
   "source": [
    "Data Preprocessing"
   ]
  },
  {
   "cell_type": "code",
   "execution_count": 6,
   "id": "d3866a3e-6c89-4054-a76f-336e77080e3b",
   "metadata": {},
   "outputs": [],
   "source": [
    "# Encode categorical features\n",
    "label_encoder = LabelEncoder()\n",
    "\n",
    "# Columns that need encoding\n",
    "categorical_columns = ['Gender', 'Married', 'State', 'Value_Deal', 'Phone_Service', 'Multiple_Lines', \n",
    "                       'Internet_Service', 'Internet_Type', 'Online_Security', 'Online_Backup',\n",
    "                       'Device_Protection_Plan', 'Premium_Support', 'Streaming_TV', 'Streaming_Movies', \n",
    "                       'Streaming_Music', 'Unlimited_Data', 'Contract', 'Paperless_Billing', \n",
    "                       'Payment_Method', 'Customer_Status']\n",
    "\n",
    "# Apply Label Encoding to categorical columns\n",
    "for col in categorical_columns:\n",
    "    data[col] = label_encoder.fit_transform(data[col])"
   ]
  },
  {
   "cell_type": "markdown",
   "id": "5bc65b50-99a0-4b98-923e-c35116f0569c",
   "metadata": {},
   "source": [
    "Train The Model"
   ]
  },
  {
   "cell_type": "code",
   "execution_count": 7,
   "id": "6ad68df0-29f9-4191-8c10-b42bd6790221",
   "metadata": {},
   "outputs": [
    {
     "name": "stdout",
     "output_type": "stream",
     "text": [
      "              precision    recall  f1-score   support\n",
      "\n",
      "           0       0.79      0.64      0.71       545\n",
      "           1       0.86      0.93      0.89      1258\n",
      "\n",
      "    accuracy                           0.84      1803\n",
      "   macro avg       0.82      0.79      0.80      1803\n",
      "weighted avg       0.84      0.84      0.84      1803\n",
      "\n"
     ]
    }
   ],
   "source": [
    "# Define features (X) and target (y)\n",
    "X = data.drop(['Customer_ID', 'Customer_Status', 'Churn_Category', 'Churn_Reason'], axis=1)\n",
    "y = data['Customer_Status']\n",
    "\n",
    "# Split the data into training and testing sets\n",
    "X_train, X_test, y_train, y_test = train_test_split(X, y, test_size=0.3, random_state=42)\n",
    "\n",
    "# Initialize and train the Random Forest Classifier\n",
    "rf_model = RandomForestClassifier(n_estimators=100, random_state=42)\n",
    "rf_model.fit(X_train, y_train)\n",
    "\n",
    "# Predict on the test set\n",
    "y_pred = rf_model.predict(X_test)\n",
    "\n",
    "# Generate a classification report to evaluate the model\n",
    "classification_report_rf = classification_report(y_test, y_pred)\n",
    "print(classification_report_rf)"
   ]
  },
  {
   "cell_type": "markdown",
   "id": "e7ba43b9-ef59-4af9-9043-c7e62f1b9d91",
   "metadata": {},
   "source": [
    "Evaluate Model"
   ]
  },
  {
   "cell_type": "code",
   "execution_count": 8,
   "id": "bd37ea76-7429-4a45-804a-98eb5b97be6c",
   "metadata": {},
   "outputs": [
    {
     "data": {
      "image/png": "[encoded data removed]",
      "text/plain": [
       "<Figure size 800x600 with 2 Axes>"
      ]
     },
     "metadata": {},
     "output_type": "display_data"
    }
   ],
   "source": [
    "# Create a confusion matrix\n",
    "conf_matrix = confusion_matrix(y_test, y_pred)\n",
    "\n",
    "# Plot the confusion matrix\n",
    "plt.figure(figsize=(8,6))\n",
    "sns.heatmap(conf_matrix, annot=True, fmt='d', cmap='Blues', xticklabels=['Stayed', 'Churned'], yticklabels=['Stayed', 'Churned'])\n",
    "plt.ylabel('Actual')\n",
    "plt.xlabel('Predicted')\n",
    "plt.title('Confusion Matrix')\n",
    "plt.show()"
   ]
  },
  {
   "cell_type": "markdown",
   "id": "2d6f4ba5-3cd7-4d0b-9f0b-9b37332cb1ca",
   "metadata": {},
   "source": [
    "Use Model for Prediction on New Data"
   ]
  },
  {
   "cell_type": "code",
   "execution_count": 12,
   "id": "8b84c246-6977-4ada-a5a6-25f7782d5d9b",
   "metadata": {},
   "outputs": [
    {
     "name": "stdout",
     "output_type": "stream",
     "text": [
      "  Customer_ID  Gender  Age Married        State  Number_of_Referrals  \\\n",
      "0   11751-TAM  Female   18      No   Tamil Nadu                    5   \n",
      "1   12056-WES    Male   27      No  West Bengal                    2   \n",
      "2   12136-RAJ  Female   25     Yes    Rajasthan                    2   \n",
      "3   12257-ASS  Female   39      No        Assam                    9   \n",
      "4   12340-DEL  Female   51     Yes        Delhi                    0   \n",
      "\n",
      "   Tenure_in_Months Value_Deal Phone_Service Multiple_Lines  ...  \\\n",
      "0                 7     Deal 5            No             No  ...   \n",
      "1                20        NaN           Yes             No  ...   \n",
      "2                35        NaN           Yes             No  ...   \n",
      "3                 1        NaN           Yes             No  ...   \n",
      "4                10        NaN           Yes             No  ...   \n",
      "\n",
      "    Payment_Method Monthly_Charge Total_Charges Total_Refunds  \\\n",
      "0     Mailed Check      24.299999     38.450001           0.0   \n",
      "1  Bank Withdrawal      90.400002    268.450012           0.0   \n",
      "2  Bank Withdrawal      19.900000     19.900000           0.0   \n",
      "3      Credit Card      19.549999     19.549999           0.0   \n",
      "4      Credit Card      62.799999     62.799999           0.0   \n",
      "\n",
      "  Total_Extra_Data_Charges Total_Long_Distance_Charges Total_Revenue  \\\n",
      "0                        0                    0.000000     38.450001   \n",
      "1                        0                   94.440002    362.890015   \n",
      "2                        0                   11.830000     31.730000   \n",
      "3                        0                   10.200000     29.750000   \n",
      "4                        0                   42.189999    104.989998   \n",
      "\n",
      "  Customer_Status Churn_Category Churn_Reason  \n",
      "0          Joined         Others       Others  \n",
      "1          Joined         Others       Others  \n",
      "2          Joined         Others       Others  \n",
      "3          Joined         Others       Others  \n",
      "4          Joined         Others       Others  \n",
      "\n",
      "[5 rows x 32 columns]\n",
      "   Customer_ID  Gender  Age Married           State  Number_of_Referrals  \\\n",
      "62   25733-HAR  Female   80      No         Haryana                    8   \n",
      "64   26139-KAR    Male   76      No       Karnataka                    5   \n",
      "75   27880-AND    Male   48      No  Andhra Pradesh                   14   \n",
      "80   28317-MAD  Female   29     Yes  Madhya Pradesh                   14   \n",
      "97   32080-WES    Male   33     Yes     West Bengal                    1   \n",
      "\n",
      "    Tenure_in_Months Value_Deal Phone_Service Multiple_Lines  ...  \\\n",
      "62                33     Deal 5           Yes             No  ...   \n",
      "64                22     Deal 5           Yes             No  ...   \n",
      "75                21        NaN           Yes            Yes  ...   \n",
      "80                 6        NaN           Yes             No  ...   \n",
      "97                12        NaN           Yes             No  ...   \n",
      "\n",
      "   Monthly_Charge Total_Charges Total_Refunds Total_Extra_Data_Charges  \\\n",
      "62      95.500000    181.649994           0.0                       10   \n",
      "64      49.950001    107.099998           0.0                        0   \n",
      "75      26.400000    121.250000           0.0                        0   \n",
      "80      19.100000     52.000000           0.0                        0   \n",
      "97      19.600000     55.250000           0.0                        0   \n",
      "\n",
      "   Total_Long_Distance_Charges Total_Revenue Customer_Status Churn_Category  \\\n",
      "62                   66.199997    257.850006          Joined         Others   \n",
      "64                   75.940002    183.039993          Joined         Others   \n",
      "75                  101.610001    222.860001          Joined         Others   \n",
      "80                  135.990005    187.990005          Joined         Others   \n",
      "97                  125.699997    180.949997          Joined         Others   \n",
      "\n",
      "   Churn_Reason Customer_Status_Predicted  \n",
      "62       Others                         1  \n",
      "64       Others                         1  \n",
      "75       Others                         1  \n",
      "80       Others                         1  \n",
      "97       Others                         1  \n",
      "\n",
      "[5 rows x 33 columns]\n"
     ]
    }
   ],
   "source": [
    "# Load the new data (Prediction_Data.xlsx)\n",
    "file_path = r\"C:\\Users\\kumma\\OneDrive\\文档\\prediction data.xlsx\"\n",
    "sheet_name = 'vw_JoinData'\n",
    "\n",
    "# Read the new data from the specified sheet into a pandas DataFrame\n",
    "new_data = pd.read_excel(file_path, sheet_name=sheet_name)\n",
    "\n",
    "# Display the first few rows of the fetched data\n",
    "print(new_data.head())\n",
    "\n",
    "# Retain the original DataFrame to preserve unencoded columns\n",
    "original_data = new_data.copy()\n",
    "\n",
    "# Retain the Customer_ID column\n",
    "customer_ids = new_data['Customer_ID']\n",
    "\n",
    "# Drop columns that won't be used for prediction in the encoded DataFrame\n",
    "new_data = new_data.drop(['Customer_ID', 'Customer_Status', 'Churn_Category', 'Churn_Reason'], axis=1, errors='ignore')\n",
    "\n",
    "# Create new LabelEncoder for each categorical column\n",
    "label_encoders = {}  # Dictionary to store label encoders for each column\n",
    "for column in new_data.select_dtypes(include=['object']).columns:\n",
    "    le = LabelEncoder()\n",
    "    new_data[column] = le.fit_transform(new_data[column])\n",
    "    label_encoders[column] = le  # Store the label encoder for future use if needed\n",
    "\n",
    "# Make predictions on the new data using the previously trained Random Forest model (rf_model)\n",
    "new_predictions = rf_model.predict(new_data)\n",
    "\n",
    "# Add predictions to the original DataFrame\n",
    "original_data['Customer_Status_Predicted'] = new_predictions\n",
    "\n",
    "# Filter the DataFrame to include only records predicted as \"Churned\" (assuming 1 = Churned)\n",
    "original_data = original_data[original_data['Customer_Status_Predicted'] == 1]\n",
    "\n",
    "# Save the results to a CSV file\n",
    "original_data.to_csv(r\"C:\\Users\\kumma\\OneDrive\\文档\\data analytics res\\Predictions.csv\", index=False)\n",
    "\n",
    "# Display the filtered DataFrame with churned customers\n",
    "print(original_data.head())"
   ]
  },
  {
   "cell_type": "code",
   "execution_count": null,
   "id": "99637f98-5cbf-4dc3-9dd2-1d3c51e5a755",
   "metadata": {},
   "outputs": [],
   "source": []
  }
 ],
 "metadata": {
  "kernelspec": {
   "display_name": "Python 3 (ipykernel)",
   "language": "python",
   "name": "python3"
  },
  "language_info": {
   "codemirror_mode": {
    "name": "ipython",
    "version": 3
   },
   "file_extension": ".py",
   "mimetype": "text/x-python",
   "name": "python",
   "nbconvert_exporter": "python",
   "pygments_lexer": "ipython3",
   "version": "3.12.5"
  }
 },
 "nbformat": 4,
 "nbformat_minor": 5
}
